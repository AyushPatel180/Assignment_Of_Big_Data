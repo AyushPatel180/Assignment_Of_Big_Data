{
  "nbformat": 4,
  "nbformat_minor": 0,
  "metadata": {
    "colab": {
      "provenance": []
    },
    "kernelspec": {
      "name": "python3",
      "display_name": "Python 3"
    },
    "language_info": {
      "name": "python"
    }
  },
  "cells": [
    {
      "cell_type": "markdown",
      "source": [
        "#KAFKA Assignment\n",
        "\n",
        "Name: Ayush Patel\n",
        "\n",
        "ID : 202318036"
      ],
      "metadata": {
        "id": "8zj-dv-KJ2yV"
      }
    },
    {
      "cell_type": "code",
      "execution_count": null,
      "metadata": {
        "colab": {
          "base_uri": "https://localhost:8080/"
        },
        "id": "6KRG1aqaFPrN",
        "outputId": "c42f868e-1914-4cd3-8e4d-a8830d072933"
      },
      "outputs": [
        {
          "output_type": "stream",
          "name": "stdout",
          "text": [
            "Collecting confluent_kafka\n",
            "  Downloading confluent_kafka-2.4.0-cp310-cp310-manylinux_2_17_x86_64.manylinux2014_x86_64.whl (4.0 MB)\n",
            "\u001b[2K     \u001b[90m━━━━━━━━━━━━━━━━━━━━━━━━━━━━━━━━━━━━━━━━\u001b[0m \u001b[32m4.0/4.0 MB\u001b[0m \u001b[31m30.9 MB/s\u001b[0m eta \u001b[36m0:00:00\u001b[0m\n",
            "\u001b[?25hInstalling collected packages: confluent_kafka\n",
            "Successfully installed confluent_kafka-2.4.0\n"
          ]
        }
      ],
      "source": [
        "!pip install confluent_kafka"
      ]
    },
    {
      "cell_type": "code",
      "source": [
        "import json\n",
        "\n",
        "def decode_json(message):\n",
        "    \"\"\"\n",
        "    Decode a JSON-encoded string.\n",
        "\n",
        "    Args:\n",
        "    - message (str): JSON-encoded string.\n",
        "\n",
        "    Returns:\n",
        "    - dict: Decoded JSON object.\n",
        "    - None: If decoding fails.\n",
        "    \"\"\"\n",
        "    try:\n",
        "        return json.loads(message)\n",
        "    except json.JSONDecodeError:\n",
        "        return None\n",
        "\n",
        "def filter_message_by_type(message, message_type):\n",
        "    \"\"\"\n",
        "    Filter messages by type.\n",
        "\n",
        "    Args:\n",
        "    - message (str): JSON-encoded string.\n",
        "    - message_type (str): Type of message to filter.\n",
        "\n",
        "    Returns:\n",
        "    - bool: True if the message matches the specified type, False otherwise.\n",
        "    \"\"\"\n",
        "    decoded_message = decode_json(message)\n",
        "    if decoded_message:\n",
        "        return decoded_message.get('type') == message_type\n",
        "    return False\n",
        "\n",
        "# Example usage:\n",
        "message = '{\"type\": \"inventory\", \"item_id\": \"123\", \"quantity\": 10}'\n",
        "print(filter_message_by_type(message, 'inventory'))  # Output: True\n",
        "print(filter_message_by_type(message, 'delivery'))   # Output: False\n"
      ],
      "metadata": {
        "id": "I9KxFuxDKcqe"
      },
      "execution_count": null,
      "outputs": []
    }
  ]
}